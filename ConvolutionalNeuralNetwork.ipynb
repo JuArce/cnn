{
 "cells": [
  {
   "cell_type": "markdown",
   "id": "b760a0f6",
   "metadata": {},
   "source": [
    "# Convolutional Neural Network\n",
    "\n",
    "This example shows how to design a simple quantization aware training CNN and how to measure \n",
    "the maximum accumulator bit width. We also show the impact of quantization on accuracy. \n",
    "\n",
    "To analyze the potential FHE-compatible quantization configurations, we use the simulation mode of\n",
    " the FHE circuit of the CNN. The maximum accumulator \n",
    "bit width that is currently allowed in Concrete ML is **16** bits, which limits the bit-widths \n",
    "that are usable for weights and activations.\n",
    "\n",
    "We find an FHE compatible configuration for 3 bits weights and activations and run the CNN in FHE.\n",
    "The accuracy in this highly quantized configuration is 92%. "
   ]
  },
  {
   "cell_type": "markdown",
   "id": "253288cf",
   "metadata": {},
   "source": [
    "### Import required modules"
   ]
  },
  {
   "cell_type": "code",
   "execution_count": 1,
   "id": "6200ab62",
   "metadata": {
    "ExecuteTime": {
     "end_time": "2023-09-29T17:00:07.750210500Z",
     "start_time": "2023-09-29T17:00:04.280850400Z"
    }
   },
   "outputs": [],
   "source": [
    "import time\n",
    "import torch.utils\n",
    "from torch.utils.data import DataLoader, TensorDataset\n",
    "from PIL import Image\n",
    "\n",
    "# And some helpers for visualization.\n",
    "%matplotlib inline\n",
    "\n",
    "from utils.dataset_utils import get_loaded_dataset, create_dataloader\n",
    "from utils.cnn_utils import create_network, train_network, test_network\n",
    "from utils.fhe_utils import compile_network, test_quantized_module, test_with_concrete\n",
    "from utils.graphics_utils import plot_training_loss\n",
    "\n",
    "from models.TinyCNN import TinyCNN\n",
    "from models.HeavyCNN import HeavyCNN"
   ]
  },
  {
   "cell_type": "markdown",
   "id": "0ed920ba",
   "metadata": {},
   "source": [
    "### Load the data-set and visualize it"
   ]
  },
  {
   "cell_type": "code",
   "execution_count": 2,
   "outputs": [
    {
     "name": "stdout",
     "output_type": "stream",
     "text": [
      "Humans files: 4011\n",
      "Not humans files: 4006\n",
      "./data/human-and-non-human/training_set/training_set/non-humans/airplane_0000.jpg\n",
      "./data/human-and-non-human/training_set/training_set/non-humans/airplane_0001.jpg\n",
      "./data/human-and-non-human/training_set/training_set/non-humans/airplane_0002.jpg\n",
      "./data/human-and-non-human/training_set/training_set/non-humans/airplane_0003.jpg\n",
      "./data/human-and-non-human/training_set/training_set/non-humans/airplane_0004.jpg\n",
      "./data/human-and-non-human/training_set/training_set/non-humans/airplane_0005.jpg\n",
      "./data/human-and-non-human/training_set/training_set/non-humans/airplane_0006.jpg\n",
      "./data/human-and-non-human/training_set/training_set/non-humans/airplane_0007.jpg\n",
      "./data/human-and-non-human/training_set/training_set/non-humans/airplane_0008.jpg\n",
      "./data/human-and-non-human/training_set/training_set/non-humans/airplane_0009.jpg\n",
      "./data/human-and-non-human/training_set/training_set/non-humans/airplane_0010.jpg\n",
      "./data/human-and-non-human/training_set/training_set/non-humans/airplane_0011.jpg\n",
      "./data/human-and-non-human/training_set/training_set/non-humans/airplane_0012.jpg\n",
      "./data/human-and-non-human/training_set/training_set/non-humans/airplane_0013.jpg\n",
      "./data/human-and-non-human/training_set/training_set/non-humans/airplane_0014.jpg\n",
      "./data/human-and-non-human/training_set/training_set/non-humans/airplane_0015.jpg\n",
      "./data/human-and-non-human/training_set/training_set/non-humans/airplane_0016.jpg\n",
      "./data/human-and-non-human/training_set/training_set/non-humans/airplane_0017.jpg\n",
      "./data/human-and-non-human/training_set/training_set/non-humans/airplane_0018.jpg\n",
      "./data/human-and-non-human/training_set/training_set/non-humans/airplane_0019.jpg\n",
      "./data/human-and-non-human/training_set/training_set/non-humans/airplane_0020.jpg\n",
      "./data/human-and-non-human/training_set/training_set/non-humans/airplane_0021.jpg\n",
      "./data/human-and-non-human/training_set/training_set/non-humans/airplane_0022.jpg\n",
      "./data/human-and-non-human/training_set/training_set/non-humans/airplane_0023.jpg\n",
      "./data/human-and-non-human/training_set/training_set/non-humans/airplane_0024.jpg\n",
      "./data/human-and-non-human/training_set/training_set/non-humans/airplane_0025.jpg\n",
      "./data/human-and-non-human/training_set/training_set/non-humans/airplane_0026.jpg\n",
      "./data/human-and-non-human/training_set/training_set/non-humans/airplane_0027.jpg\n",
      "./data/human-and-non-human/training_set/training_set/non-humans/airplane_0028.jpg\n",
      "./data/human-and-non-human/training_set/training_set/non-humans/airplane_0029.jpg\n",
      "./data/human-and-non-human/training_set/training_set/non-humans/airplane_0030.jpg\n",
      "./data/human-and-non-human/training_set/training_set/non-humans/airplane_0031.jpg\n",
      "./data/human-and-non-human/training_set/training_set/non-humans/airplane_0032.jpg\n",
      "./data/human-and-non-human/training_set/training_set/non-humans/airplane_0033.jpg\n",
      "./data/human-and-non-human/training_set/training_set/non-humans/airplane_0034.jpg\n",
      "./data/human-and-non-human/training_set/training_set/non-humans/airplane_0035.jpg\n",
      "./data/human-and-non-human/training_set/training_set/non-humans/airplane_0036.jpg\n",
      "./data/human-and-non-human/training_set/training_set/non-humans/airplane_0037.jpg\n",
      "./data/human-and-non-human/training_set/training_set/non-humans/airplane_0038.jpg\n",
      "./data/human-and-non-human/training_set/training_set/non-humans/airplane_0039.jpg\n",
      "./data/human-and-non-human/training_set/training_set/non-humans/airplane_0040.jpg\n",
      "./data/human-and-non-human/training_set/training_set/non-humans/airplane_0041.jpg\n",
      "./data/human-and-non-human/training_set/training_set/non-humans/airplane_0042.jpg\n",
      "./data/human-and-non-human/training_set/training_set/non-humans/airplane_0043.jpg\n",
      "./data/human-and-non-human/training_set/training_set/non-humans/airplane_0044.jpg\n",
      "./data/human-and-non-human/training_set/training_set/non-humans/airplane_0045.jpg\n",
      "./data/human-and-non-human/training_set/training_set/non-humans/airplane_0046.jpg\n",
      "./data/human-and-non-human/training_set/training_set/non-humans/airplane_0047.jpg\n",
      "./data/human-and-non-human/training_set/training_set/non-humans/airplane_0048.jpg\n",
      "./data/human-and-non-human/training_set/training_set/non-humans/airplane_0049.jpg\n",
      "./data/human-and-non-human/training_set/training_set/non-humans/airplane_0050.jpg\n",
      "./data/human-and-non-human/training_set/training_set/non-humans/airplane_0051.jpg\n",
      "./data/human-and-non-human/training_set/training_set/non-humans/airplane_0052.jpg\n",
      "./data/human-and-non-human/training_set/training_set/non-humans/airplane_0053.jpg\n",
      "./data/human-and-non-human/training_set/training_set/non-humans/airplane_0054.jpg\n",
      "./data/human-and-non-human/training_set/training_set/non-humans/airplane_0055.jpg\n",
      "./data/human-and-non-human/training_set/training_set/non-humans/airplane_0056.jpg\n",
      "./data/human-and-non-human/training_set/training_set/non-humans/airplane_0057.jpg\n",
      "./data/human-and-non-human/training_set/training_set/non-humans/airplane_0058.jpg\n",
      "./data/human-and-non-human/training_set/training_set/non-humans/airplane_0059.jpg\n",
      "./data/human-and-non-human/training_set/training_set/non-humans/airplane_0060.jpg\n",
      "./data/human-and-non-human/training_set/training_set/non-humans/airplane_0061.jpg\n",
      "./data/human-and-non-human/training_set/training_set/non-humans/airplane_0062.jpg\n",
      "./data/human-and-non-human/training_set/training_set/non-humans/airplane_0063.jpg\n",
      "./data/human-and-non-human/training_set/training_set/non-humans/airplane_0064.jpg\n",
      "./data/human-and-non-human/training_set/training_set/non-humans/airplane_0065.jpg\n",
      "./data/human-and-non-human/training_set/training_set/non-humans/airplane_0066.jpg\n",
      "./data/human-and-non-human/training_set/training_set/non-humans/airplane_0067.jpg\n",
      "./data/human-and-non-human/training_set/training_set/non-humans/airplane_0068.jpg\n",
      "./data/human-and-non-human/training_set/training_set/non-humans/airplane_0069.jpg\n",
      "./data/human-and-non-human/training_set/training_set/non-humans/airplane_0070.jpg\n",
      "./data/human-and-non-human/training_set/training_set/non-humans/airplane_0071.jpg\n",
      "./data/human-and-non-human/training_set/training_set/non-humans/airplane_0072.jpg\n",
      "./data/human-and-non-human/training_set/training_set/non-humans/airplane_0073.jpg\n",
      "./data/human-and-non-human/training_set/training_set/non-humans/airplane_0074.jpg\n",
      "./data/human-and-non-human/training_set/training_set/non-humans/airplane_0075.jpg\n",
      "./data/human-and-non-human/training_set/training_set/non-humans/airplane_0076.jpg\n",
      "./data/human-and-non-human/training_set/training_set/non-humans/airplane_0077.jpg\n",
      "./data/human-and-non-human/training_set/training_set/non-humans/airplane_0078.jpg\n",
      "./data/human-and-non-human/training_set/training_set/non-humans/airplane_0079.jpg\n",
      "./data/human-and-non-human/training_set/training_set/non-humans/airplane_0080.jpg\n",
      "./data/human-and-non-human/training_set/training_set/non-humans/airplane_0081.jpg\n",
      "./data/human-and-non-human/training_set/training_set/non-humans/airplane_0082.jpg\n",
      "./data/human-and-non-human/training_set/training_set/non-humans/airplane_0083.jpg\n",
      "./data/human-and-non-human/training_set/training_set/non-humans/airplane_0084.jpg\n",
      "./data/human-and-non-human/training_set/training_set/non-humans/airplane_0085.jpg\n",
      "./data/human-and-non-human/training_set/training_set/non-humans/airplane_0086.jpg\n",
      "./data/human-and-non-human/training_set/training_set/non-humans/airplane_0087.jpg\n",
      "./data/human-and-non-human/training_set/training_set/non-humans/airplane_0088.jpg\n",
      "./data/human-and-non-human/training_set/training_set/non-humans/airplane_0089.jpg\n",
      "./data/human-and-non-human/training_set/training_set/non-humans/airplane_0090.jpg\n",
      "./data/human-and-non-human/training_set/training_set/non-humans/airplane_0091.jpg\n",
      "./data/human-and-non-human/training_set/training_set/non-humans/airplane_0092.jpg\n",
      "./data/human-and-non-human/training_set/training_set/non-humans/airplane_0093.jpg\n",
      "./data/human-and-non-human/training_set/training_set/non-humans/airplane_0094.jpg\n",
      "./data/human-and-non-human/training_set/training_set/non-humans/airplane_0095.jpg\n",
      "./data/human-and-non-human/training_set/training_set/non-humans/airplane_0096.jpg\n",
      "./data/human-and-non-human/training_set/training_set/non-humans/airplane_0097.jpg\n",
      "./data/human-and-non-human/training_set/training_set/non-humans/airplane_0098.jpg\n",
      "./data/human-and-non-human/training_set/training_set/non-humans/airplane_0099.jpg\n",
      "./data/human-and-non-human/training_set/training_set/humans/AJ_Cook_0001.jpg\n",
      "./data/human-and-non-human/training_set/training_set/humans/Akbar_Al_Baker_0001.jpg\n",
      "./data/human-and-non-human/training_set/training_set/humans/Akhmed_Zakayev_0001.jpg\n",
      "./data/human-and-non-human/training_set/training_set/humans/Akhmed_Zakayev_0002.jpg\n",
      "./data/human-and-non-human/training_set/training_set/humans/Akhmed_Zakayev_0003.jpg\n",
      "./data/human-and-non-human/training_set/training_set/humans/Akiko_Morigami_0001.jpg\n",
      "./data/human-and-non-human/training_set/training_set/humans/Akmal_Taher_0001.jpg\n",
      "./data/human-and-non-human/training_set/training_set/humans/Alain_Cervantes_0001.jpg\n",
      "./data/human-and-non-human/training_set/training_set/humans/Alain_Ducasse_0001.jpg\n",
      "./data/human-and-non-human/training_set/training_set/humans/Alanis_Morissette_0001.jpg\n",
      "./data/human-and-non-human/training_set/training_set/humans/Alanna_Ubach_0001.jpg\n",
      "./data/human-and-non-human/training_set/training_set/humans/Alan_Ball_0001.jpg\n",
      "./data/human-and-non-human/training_set/training_set/humans/Alan_Ball_0002.jpg\n",
      "./data/human-and-non-human/training_set/training_set/humans/Alan_Dershowitz_0001.jpg\n",
      "./data/human-and-non-human/training_set/training_set/humans/Alan_Dreher_0001.jpg\n",
      "./data/human-and-non-human/training_set/training_set/humans/Alan_Greenspan_0001.jpg\n",
      "./data/human-and-non-human/training_set/training_set/humans/Alan_Greenspan_0002.jpg\n",
      "./data/human-and-non-human/training_set/training_set/humans/Alan_Greenspan_0003.jpg\n",
      "./data/human-and-non-human/training_set/training_set/humans/Alan_Greenspan_0004.jpg\n",
      "./data/human-and-non-human/training_set/training_set/humans/Alan_Greenspan_0005.jpg\n",
      "./data/human-and-non-human/training_set/training_set/humans/Alan_Greer_0001.jpg\n",
      "./data/human-and-non-human/training_set/training_set/humans/Alan_Jackson_0001.jpg\n",
      "./data/human-and-non-human/training_set/training_set/humans/Alan_Mulally_0001.jpg\n",
      "./data/human-and-non-human/training_set/training_set/humans/Alan_Mulally_0002.jpg\n",
      "./data/human-and-non-human/training_set/training_set/humans/Alan_Trammell_0001.jpg\n",
      "./data/human-and-non-human/training_set/training_set/humans/Alan_Zemaitis_0001.jpg\n",
      "./data/human-and-non-human/training_set/training_set/humans/Alastair_Campbell_0001.jpg\n",
      "./data/human-and-non-human/training_set/training_set/humans/Alastair_Campbell_0002.jpg\n",
      "./data/human-and-non-human/training_set/training_set/humans/Alastair_Campbell_0003.jpg\n",
      "./data/human-and-non-human/training_set/training_set/humans/Alastair_Campbell_0004.jpg\n",
      "./data/human-and-non-human/training_set/training_set/humans/Alastair_Campbell_0005.jpg\n",
      "./data/human-and-non-human/training_set/training_set/humans/Alastair_Johnston_0001.jpg\n",
      "./data/human-and-non-human/training_set/training_set/humans/Alberta_Lee_0001.jpg\n",
      "./data/human-and-non-human/training_set/training_set/humans/Alberto_Ruiz_Gallardon_0001.jpg\n",
      "./data/human-and-non-human/training_set/training_set/humans/Alberto_Ruiz_Gallardon_0002.jpg\n",
      "./data/human-and-non-human/training_set/training_set/humans/Alberto_Sordi_0001.jpg\n",
      "./data/human-and-non-human/training_set/training_set/humans/Albert_Brooks_0001.jpg\n",
      "./data/human-and-non-human/training_set/training_set/humans/Albert_Costa_0001.jpg\n",
      "./data/human-and-non-human/training_set/training_set/humans/Albert_Costa_0002.jpg\n",
      "./data/human-and-non-human/training_set/training_set/humans/Albert_Costa_0003.jpg\n",
      "./data/human-and-non-human/training_set/training_set/humans/Albert_Costa_0004.jpg\n",
      "./data/human-and-non-human/training_set/training_set/humans/Albert_Costa_0006.jpg\n",
      "./data/human-and-non-human/training_set/training_set/humans/Albert_Montanes_0001.jpg\n",
      "./data/human-and-non-human/training_set/training_set/humans/Albert_Pujols_0001.jpg\n",
      "./data/human-and-non-human/training_set/training_set/humans/Albrecht_Mentz_0001.jpg\n",
      "./data/human-and-non-human/training_set/training_set/humans/Albrecht_Mentz_0002.jpg\n",
      "./data/human-and-non-human/training_set/training_set/humans/Alecos_Markides_0001.jpg\n",
      "./data/human-and-non-human/training_set/training_set/humans/Alec_Baldwin_0003.jpg\n",
      "./data/human-and-non-human/training_set/training_set/humans/Alec_Baldwin_0004.jpg\n",
      "./data/human-and-non-human/training_set/training_set/humans/Alejandro_Atchugarry_0001.jpg\n",
      "./data/human-and-non-human/training_set/training_set/humans/Alejandro_Atchugarry_0002.jpg\n",
      "./data/human-and-non-human/training_set/training_set/humans/Alejandro_Avila_0001.jpg\n",
      "./data/human-and-non-human/training_set/training_set/humans/Alejandro_Avila_0002.jpg\n",
      "./data/human-and-non-human/training_set/training_set/humans/Alejandro_Avila_0003.jpg\n",
      "./data/human-and-non-human/training_set/training_set/humans/Alejandro_Fernandez_0001.jpg\n",
      "./data/human-and-non-human/training_set/training_set/humans/Alejandro_Gonzalez_Inarritu_0001.jpg\n",
      "./data/human-and-non-human/training_set/training_set/humans/Alejandro_Lembo_0001.jpg\n",
      "./data/human-and-non-human/training_set/training_set/humans/Alejandro_Lerner_0001.jpg\n",
      "./data/human-and-non-human/training_set/training_set/humans/Alejandro_Lopez_0001.jpg\n",
      "./data/human-and-non-human/training_set/training_set/humans/Alejandro_Toledo_0001.jpg\n",
      "./data/human-and-non-human/training_set/training_set/humans/Alejandro_Toledo_0002.jpg\n",
      "./data/human-and-non-human/training_set/training_set/humans/Alejandro_Toledo_0003.jpg\n",
      "./data/human-and-non-human/training_set/training_set/humans/Alejandro_Toledo_0004.jpg\n",
      "./data/human-and-non-human/training_set/training_set/humans/Alejandro_Toledo_0005.jpg\n",
      "./data/human-and-non-human/training_set/training_set/humans/Alejandro_Toledo_0007.jpg\n",
      "./data/human-and-non-human/training_set/training_set/humans/Alejandro_Toledo_0009.jpg\n",
      "./data/human-and-non-human/training_set/training_set/humans/Alejandro_Toledo_0010.jpg\n",
      "./data/human-and-non-human/training_set/training_set/humans/Alejandro_Toledo_0011.jpg\n",
      "./data/human-and-non-human/training_set/training_set/humans/Alejandro_Toledo_0013.jpg\n",
      "./data/human-and-non-human/training_set/training_set/humans/Alejandro_Toledo_0017.jpg\n",
      "./data/human-and-non-human/training_set/training_set/humans/Alejandro_Toledo_0018.jpg\n",
      "./data/human-and-non-human/training_set/training_set/humans/Alejandro_Toledo_0019.jpg\n",
      "./data/human-and-non-human/training_set/training_set/humans/Alejandro_Toledo_0020.jpg\n",
      "./data/human-and-non-human/training_set/training_set/humans/Alejandro_Toledo_0021.jpg\n",
      "./data/human-and-non-human/training_set/training_set/humans/Alejandro_Toledo_0024.jpg\n",
      "./data/human-and-non-human/training_set/training_set/humans/Alejandro_Toledo_0026.jpg\n",
      "./data/human-and-non-human/training_set/training_set/humans/Alejandro_Toledo_0028.jpg\n",
      "./data/human-and-non-human/training_set/training_set/humans/Alejandro_Toledo_0030.jpg\n",
      "./data/human-and-non-human/training_set/training_set/humans/Alejandro_Toledo_0031.jpg\n",
      "./data/human-and-non-human/training_set/training_set/humans/Alejandro_Toledo_0033.jpg\n",
      "./data/human-and-non-human/training_set/training_set/humans/Alejandro_Toledo_0034.jpg\n",
      "./data/human-and-non-human/training_set/training_set/humans/Alejandro_Toledo_0035.jpg\n",
      "./data/human-and-non-human/training_set/training_set/humans/Alejandro_Toledo_0037.jpg\n",
      "./data/human-and-non-human/training_set/training_set/humans/Alejandro_Toledo_0038.jpg\n",
      "./data/human-and-non-human/training_set/training_set/humans/Aleksander_Kwasniewski_0002.jpg\n",
      "./data/human-and-non-human/training_set/training_set/humans/Aleksander_Kwasniewski_0003.jpg\n",
      "./data/human-and-non-human/training_set/training_set/humans/Aleksander_Voloshin_0001.jpg\n",
      "./data/human-and-non-human/training_set/training_set/humans/Alexander_Downer_0001.jpg\n",
      "./data/human-and-non-human/training_set/training_set/humans/Alexander_Downer_0002.jpg\n",
      "./data/human-and-non-human/training_set/training_set/humans/Alexander_Downer_0003.jpg\n",
      "./data/human-and-non-human/training_set/training_set/humans/Alexander_Downer_0004.jpg\n",
      "./data/human-and-non-human/training_set/training_set/humans/Alexander_Losyukov_0001.jpg\n",
      "./data/human-and-non-human/training_set/training_set/humans/Alexander_Losyukov_0002.jpg\n",
      "./data/human-and-non-human/training_set/training_set/humans/Alexander_Losyukov_0003.jpg\n",
      "./data/human-and-non-human/training_set/training_set/humans/Alexander_Losyukov_0004.jpg\n",
      "./data/human-and-non-human/training_set/training_set/humans/Alexander_Lukashenko_0001.jpg\n",
      "./data/human-and-non-human/training_set/training_set/humans/Alexander_Payne_0001.jpg\n",
      "./data/human-and-non-human/training_set/training_set/humans/Alexander_Rumyantsev_0002.jpg\n",
      "./data/human-and-non-human/training_set/training_set/humans/Alexandra_Jackson_0001.jpg\n",
      "./data/human-and-non-human/training_set/training_set/humans/Alexandra_Pelosi_0001.jpg\n"
     ]
    }
   ],
   "source": [
    "humans_path = './data/human-and-non-human/training_set/training_set/humans'\n",
    "not_humans_path = './data/human-and-non-human/training_set/training_set/non-humans'\n",
    "IMAGE_SIZE = 64\n",
    "# image_dimensions = (IMAGE_SIZE, IMAGE_SIZE, 1) borrar no se usa\n",
    "# transposed_image_dimensions = (1, IMAGE_SIZE, IMAGE_SIZE) borrar no se usa\n",
    "x_train, x_test, y_train, y_test = get_loaded_dataset(\n",
    "    humans_path,\n",
    "    not_humans_path,\n",
    "    IMAGE_SIZE\n",
    ")\n",
    "\n",
    "train_dataloader = create_dataloader(x_train, y_train, 64)\n",
    "test_dataloader = create_dataloader(x_test, y_test, 1)"
   ],
   "metadata": {
    "collapsed": false,
    "ExecuteTime": {
     "end_time": "2023-09-29T17:00:09.739067600Z",
     "start_time": "2023-09-29T17:00:07.744177200Z"
    }
   },
   "id": "10587e3bfb3cb5da"
  },
  {
   "cell_type": "markdown",
   "id": "9c5e392d",
   "metadata": {},
   "source": [
    "### Define the neural network\n",
    "\n",
    "Since the accumulator bit width in FHE is small, we prune the convolutional\n",
    "filters to limit the number of connections per neuron.\n",
    "\n",
    "Neural network **pruning** is the process by which the synapses of individual neurons in a layer\n",
    "are forced to have a weight equal to zero. This basically eliminates them from the computation \n",
    "and thus they do not increase the accumulator bit width. It has been shown that neural networks can \n",
    "maintain their accuracy with a degree of pruning that can \n",
    "even exceed 70% for some over-parametrized networks such as VGG16 or large ResNets.\n",
    "\n",
    "See: https://arxiv.org/pdf/2003.03033.pdf, Figure 8 in Section 7.2, for an evaluation on the \n",
    "simple pruning method used in this example."
   ]
  },
  {
   "cell_type": "code",
   "execution_count": 3,
   "id": "f43e2387",
   "metadata": {
    "ExecuteTime": {
     "end_time": "2023-09-29T17:00:09.740072400Z",
     "start_time": "2023-09-29T17:00:09.737032400Z"
    }
   },
   "outputs": [],
   "source": [
    "n_classes = 2  # humans and not humans\n",
    "n_bits = 6  # Quantization bit-width\n",
    "p_error = 0.1  # Probability of error \n",
    "\n",
    "net = create_network(TinyCNN, n_classes)     "
   ]
  },
  {
   "cell_type": "markdown",
   "id": "a1449d54",
   "metadata": {},
   "source": [
    "### Train the CNN"
   ]
  },
  {
   "attachments": {},
   "cell_type": "markdown",
   "id": "518771f3",
   "metadata": {},
   "source": [
    "Note that the training code for quantization aware training is the same as it would be for\n",
    "floating point training. Indeed, the Brevitas layers used in the CNN class will handle\n",
    "quantization during training. \n",
    "\n",
    "We train the network for varying weights and activations bit-width, to find an FHE compatible \n",
    "configuration."
   ]
  },
  {
   "cell_type": "code",
   "execution_count": 4,
   "id": "f3035684",
   "metadata": {
    "ExecuteTime": {
     "end_time": "2023-09-29T17:00:19.461587800Z",
     "start_time": "2023-09-29T17:00:09.764217100Z"
    }
   },
   "outputs": [
    {
     "name": "stderr",
     "output_type": "stream",
     "text": [
      "Training: 100%|██████████| 150/150 [00:09<00:00, 15.63it/s]\n"
     ]
    },
    {
     "data": {
      "text/plain": "<Figure size 800x400 with 1 Axes>",
      "image/png": "[encoded data removed]"
     },
     "metadata": {},
     "output_type": "display_data"
    }
   ],
   "source": [
    "torch.manual_seed(42)\n",
    "\n",
    "# Epochs to train for\n",
    "N_EPOCHS = 150\n",
    "\n",
    "# Train the network\n",
    "losses = train_network(net, N_EPOCHS, train_dataloader)  \n",
    "\n",
    "# Plot the cross-entropy loss for each epoch\n",
    "plot_training_loss(losses)"
   ]
  },
  {
   "cell_type": "markdown",
   "id": "303fdc93",
   "metadata": {},
   "source": [
    "### Test the torch network in fp32"
   ]
  },
  {
   "cell_type": "code",
   "execution_count": 5,
   "id": "822f1736",
   "metadata": {
    "ExecuteTime": {
     "end_time": "2023-09-29T17:00:19.491230700Z",
     "start_time": "2023-09-29T17:00:19.460581700Z"
    }
   },
   "outputs": [
    {
     "name": "stdout",
     "output_type": "stream",
     "text": [
      "Test accuracy for 6-bit weights and activations: 87.50%\n"
     ]
    }
   ],
   "source": [
    "# Test the network in fp32   \n",
    "test_network(net, n_bits, test_dataloader)"
   ]
  },
  {
   "cell_type": "markdown",
   "id": "9a14bc3f",
   "metadata": {},
   "source": [
    "### Define the Concrete ML testing function\n",
    "\n",
    "We introduce the `test_with_concrete` function which allows us to test a Concrete ML model in one of two modes:\n",
    "- in FHE\n",
    "- in the clear, using simulated FHE execution\n",
    "\n",
    "Note that it is trivial to toggle between between the two modes. "
   ]
  },
  {
   "cell_type": "markdown",
   "id": "4cccf0b5",
   "metadata": {},
   "source": [
    "### Test the network using Simulation\n",
    "\n",
    "Note that this is not a test in FHE. The simulated FHE mode gives \n",
    "insight into the number of accumulator bits that are needed and the \n",
    "impact of FHE execution on the accuracy.\n",
    "\n",
    "The torch/brevitas neural network is quantized during training and, for inference, it is converted \n",
    "to FHE by Concrete ML using a dedicated function, `compile_brevitas_qat_model`.\n",
    "\n",
    "In this test we determine the accuracy and accumulator bit-widths for the various quantization settings\n",
    "that are trained above."
   ]
  },
  {
   "cell_type": "code",
   "execution_count": 6,
   "id": "33250d57",
   "metadata": {
    "ExecuteTime": {
     "end_time": "2023-09-29T17:00:20.380864200Z",
     "start_time": "2023-09-29T17:00:19.570949900Z"
    }
   },
   "outputs": [
    {
     "name": "stderr",
     "output_type": "stream",
     "text": [
      "WARNING: high error rate, more details with --display-optimizer-choice\n",
      "100%|██████████| 40/40 [00:00<00:00, 652.00it/s]"
     ]
    },
    {
     "name": "stdout",
     "output_type": "stream",
     "text": [
      "Simulated FHE execution for 6 bit network accuracy: 87.50%\n"
     ]
    },
    {
     "name": "stderr",
     "output_type": "stream",
     "text": [
      "\n"
     ]
    }
   ],
   "source": [
    "q_module_fhe = compile_network(net, x_train, n_bits, p_error)\n",
    "\n",
    "# Test the network in FHE using simulation\n",
    "test_quantized_module(q_module_fhe, n_bits, test_dataloader, use_sim=True)"
   ]
  },
  {
   "cell_type": "markdown",
   "id": "2875e825",
   "metadata": {},
   "source": [
    "### 2. Generate Keys"
   ]
  },
  {
   "cell_type": "code",
   "execution_count": 7,
   "id": "6e8b6471",
   "metadata": {
    "ExecuteTime": {
     "end_time": "2023-09-29T17:00:27.064877800Z",
     "start_time": "2023-09-29T17:00:27.061677700Z"
    }
   },
   "outputs": [
    {
     "name": "stdout",
     "output_type": "stream",
     "text": [
      "Keygen time: 6.69s\n"
     ]
    }
   ],
   "source": [
    "# Generate keys first, this may take some time (up to 30min)\n",
    "t = time.time()\n",
    "q_module_fhe.fhe_circuit.keygen()\n",
    "print(f\"Keygen time: {time.time()-t:.2f}s\")"
   ]
  },
  {
   "cell_type": "markdown",
   "id": "a4dd257f",
   "metadata": {},
   "source": [
    "### 3. Execute in FHE on encrypted data"
   ]
  },
  {
   "cell_type": "code",
   "execution_count": 8,
   "outputs": [],
   "source": [
    "def save_image(image_data, filename):\n",
    "    # print(image_data.shape)\n",
    "    # Create an Image object from the NumPy array\n",
    "    image = Image.fromarray(image_data.squeeze().astype(\"uint8\"), mode='L')\n",
    "    # print(image.size)\n",
    "    # Save the image to a file\n",
    "    image.save(filename)  # Change 'saved_image.jpg' to your desired file name and format\n",
    "\n",
    "def transpose_data_for_image(data):\n",
    "    # Transpose the data to match the image format\n",
    "    data = data.transpose(1, 2, 0)\n",
    "    # Convert the data to uint8\n",
    "    data = data.astype(\"uint8\")\n",
    "    # print(data.shape)\n",
    "    return data"
   ],
   "metadata": {
    "collapsed": false,
    "ExecuteTime": {
     "end_time": "2023-09-29T17:00:27.072802700Z",
     "start_time": "2023-09-29T17:00:27.068297200Z"
    }
   },
   "id": "31e604ffe50467b"
  },
  {
   "cell_type": "code",
   "execution_count": 9,
   "outputs": [
    {
     "name": "stdout",
     "output_type": "stream",
     "text": [
      "(1, 64, 64)\n",
      "1\n",
      "40\n"
     ]
    }
   ],
   "source": [
    "# Run inference in FHE on a single encrypted example\n",
    "index = 20\n",
    "mini_test_dataset = TensorDataset(torch.Tensor(x_test[[index], :]), torch.Tensor(y_test[[index]]))\n",
    "mini_test_dataloader = DataLoader(mini_test_dataset)\n",
    "# Save x_text[0] as an image\n",
    "print(x_test[0].shape)\n",
    "print(int(y_test[index]))\n",
    "save_image(transpose_data_for_image(x_test[index]), \"saved_image.jpg\")\n",
    "print(len(x_test))"
   ],
   "metadata": {
    "collapsed": false,
    "ExecuteTime": {
     "end_time": "2023-09-29T17:00:27.082676800Z",
     "start_time": "2023-09-29T17:00:27.071801300Z"
    }
   },
   "id": "4dd474ad3a361bef"
  },
  {
   "cell_type": "code",
   "execution_count": 10,
   "outputs": [],
   "source": [
    "\n",
    "\n",
    "# import numpy as np\n",
    "# \n",
    "# path = \"./data/abdul/abdul-karim.256x256.jpg\"\n",
    "# # #Open image\n",
    "# img = Image.open(path).resize(image_dimensions[:2]).convert('L')\n",
    "# img_array = np.array(img)\n",
    "# \n",
    "# test_set = np.zeros((1, *transposed_image_dimensions), dtype='float32')\n",
    "# test_set[0] = img_array\n",
    "# print(test_set[[0]].shape)\n",
    "# \n",
    "# save_image(transpose_data_for_image(test_set[0]), \"saved_image.jpg\")\n",
    "# \n",
    "# mini_test_dataset = TensorDataset(torch.Tensor(test_set[[0]]), torch.Tensor([[1]]))\n",
    "# mini_test_dataloader = DataLoader(mini_test_dataset)"
   ],
   "metadata": {
    "collapsed": false,
    "ExecuteTime": {
     "end_time": "2023-09-29T17:00:27.095220800Z",
     "start_time": "2023-09-29T17:00:27.081665500Z"
    }
   },
   "id": "1ab6b0dfa7a4721c"
  },
  {
   "cell_type": "code",
   "execution_count": 11,
   "outputs": [
    {
     "name": "stderr",
     "output_type": "stream",
     "text": [
      "100%|██████████| 1/1 [02:22<00:00, 142.83s/it]"
     ]
    },
    {
     "name": "stdout",
     "output_type": "stream",
     "text": [
      "Time per inference in FHE: 142.84\n",
      "Accuracy in FHE: 100.00%\n"
     ]
    },
    {
     "name": "stderr",
     "output_type": "stream",
     "text": [
      "\n"
     ]
    }
   ],
   "source": [
    "t = time.time()\n",
    "res = test_with_concrete(\n",
    "    q_module_fhe,\n",
    "    mini_test_dataloader,\n",
    "    use_sim=False,\n",
    ")\n",
    "print(f\"Time per inference in FHE: {(time.time() - t) / len(mini_test_dataset):.2f}\")\n",
    "print(f\"Accuracy in FHE: {res:.2f}%\")"
   ],
   "metadata": {
    "collapsed": false,
    "ExecuteTime": {
     "end_time": "2023-09-29T17:02:50.129136700Z",
     "start_time": "2023-09-29T17:00:27.088700500Z"
    }
   },
   "id": "4dea752e80679b34"
  },
  {
   "cell_type": "markdown",
   "id": "550f48bf",
   "metadata": {},
   "source": [
    "### Conclusion\n",
    "\n",
    "We see that quantization with **3** bit weight and activations is the best viable FHE configuration,\n",
    "as the accumulator bit width for this configuration is between **7 and 8** bits (can vary due to the final \n",
    "distribution of the weights). The accuracy in this setting, 92% is a few percentage points \n",
    "under the maximum accuracy achievable with larger accumulator bit widths (97-98%). \n",
    "\n",
    "Compiling the higher bit-width networks is also possible, but in this example, to ensure FHE execution is fast\n",
    "we used the lower bit-width quantization setting.\n"
   ]
  }
 ],
 "metadata": {
  "execution": {
   "timeout": 10800
  },
  "kernelspec": {
   "name": "python3",
   "language": "python",
   "display_name": "Python 3 (ipykernel)"
  }
 },
 "nbformat": 4,
 "nbformat_minor": 5
}
