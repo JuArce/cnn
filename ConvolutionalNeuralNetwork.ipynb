{
 "cells": [
  {
   "cell_type": "markdown",
   "id": "b760a0f6",
   "metadata": {},
   "source": [
    "# Convolutional Neural Network\n",
    "\n",
    "This example shows how to design a simple quantization aware training CNN and how to measure \n",
    "the maximum accumulator bit width. We also show the impact of quantization on accuracy. \n",
    "\n",
    "To analyze the potential FHE-compatible quantization configurations, we use the simulation mode of\n",
    " the FHE circuit of the CNN. The maximum accumulator \n",
    "bit width that is currently allowed in Concrete ML is **16** bits, which limits the bit-widths \n",
    "that are usable for weights and activations.\n",
    "\n",
    "We find an FHE compatible configuration for 3 bits weights and activations and run the CNN in FHE.\n",
    "The accuracy in this highly quantized configuration is 92%. "
   ]
  },
  {
   "cell_type": "markdown",
   "id": "253288cf",
   "metadata": {},
   "source": [
    "### Import required modules"
   ]
  },
  {
   "cell_type": "code",
   "execution_count": 1,
   "id": "6200ab62",
   "metadata": {
    "ExecuteTime": {
     "end_time": "2023-09-30T21:05:32.157378500Z",
     "start_time": "2023-09-30T21:05:30.494142100Z"
    }
   },
   "outputs": [],
   "source": [
    "import time\n",
    "import torch.utils\n",
    "import numpy as np\n",
    "\n",
    "# And some helpers for visualization.\n",
    "%matplotlib inline\n",
    "\n",
    "from utils.dataset_utils import get_loaded_dataset, create_dataloader, process_images, save_image\n",
    "from utils.cnn_utils import create_network, train_network, test_network\n",
    "from utils.fhe_utils import compile_network, test_quantized_module, test_with_concrete\n",
    "from utils.graphics_utils import plot_training_loss\n",
    "\n",
    "from models.TinyCNN import TinyCNN\n",
    "from models.HeavyCNN import HeavyCNN"
   ]
  },
  {
   "cell_type": "markdown",
   "id": "0ed920ba",
   "metadata": {},
   "source": [
    "### Load the data-set"
   ]
  },
  {
   "cell_type": "code",
   "execution_count": 2,
   "outputs": [
    {
     "name": "stdout",
     "output_type": "stream",
     "text": [
      "Loaded 4011 files from ./data/human-and-non-human/training_set/training_set/humans\n",
      "Loaded 4006 files from ./data/human-and-non-human/training_set/training_set/non-humans\n"
     ]
    },
    {
     "name": "stderr",
     "output_type": "stream",
     "text": [
      "Processing images: 100%|██████████| 100/100 [00:00<00:00, 229.46it/s]\n",
      "Processing images: 100%|██████████| 100/100 [00:00<00:00, 257.66it/s]\n"
     ]
    }
   ],
   "source": [
    "humans_path = './data/human-and-non-human/training_set/training_set/humans'\n",
    "not_humans_path = './data/human-and-non-human/training_set/training_set/non-humans'\n",
    "IMAGE_SIZE = 128\n",
    "IMAGES_TO_LOAD = 100  # Load 100 images from each class\n",
    "\n",
    "x_train, x_test, y_train, y_test = get_loaded_dataset(\n",
    "    humans_path,\n",
    "    not_humans_path,\n",
    "    IMAGE_SIZE,\n",
    "    IMAGES_TO_LOAD,\n",
    ")\n",
    "\n",
    "train_dataloader = create_dataloader(x_train, y_train, 64)\n",
    "test_dataloader = create_dataloader(x_test, y_test, 1)"
   ],
   "metadata": {
    "collapsed": false,
    "ExecuteTime": {
     "end_time": "2023-09-30T21:05:33.028215800Z",
     "start_time": "2023-09-30T21:05:32.160376900Z"
    }
   },
   "id": "10587e3bfb3cb5da"
  },
  {
   "cell_type": "markdown",
   "id": "9c5e392d",
   "metadata": {},
   "source": [
    "### Define the neural network\n",
    "\n",
    "Since the accumulator bit width in FHE is small, we prune the convolutional\n",
    "filters to limit the number of connections per neuron.\n",
    "\n",
    "Neural network **pruning** is the process by which the synapses of individual neurons in a layer\n",
    "are forced to have a weight equal to zero. This basically eliminates them from the computation \n",
    "and thus they do not increase the accumulator bit width. It has been shown that neural networks can \n",
    "maintain their accuracy with a degree of pruning that can \n",
    "even exceed 70% for some over-parametrized networks such as VGG16 or large ResNets.\n",
    "\n",
    "See: https://arxiv.org/pdf/2003.03033.pdf, Figure 8 in Section 7.2, for an evaluation on the \n",
    "simple pruning method used in this example."
   ]
  },
  {
   "cell_type": "code",
   "execution_count": 3,
   "id": "f43e2387",
   "metadata": {
    "ExecuteTime": {
     "end_time": "2023-09-30T21:05:33.036322Z",
     "start_time": "2023-09-30T21:05:33.032214700Z"
    }
   },
   "outputs": [],
   "source": [
    "n_classes = 2  # humans and not humans\n",
    "n_bits = 6  # Quantization bit-width\n",
    "p_error = 0.1  # Probability of error \n",
    "\n",
    "net = create_network(TinyCNN, IMAGE_SIZE, n_classes)     "
   ]
  },
  {
   "cell_type": "markdown",
   "id": "a1449d54",
   "metadata": {},
   "source": [
    "### Train the CNN"
   ]
  },
  {
   "attachments": {},
   "cell_type": "markdown",
   "id": "518771f3",
   "metadata": {},
   "source": [
    "Note that the training code for quantization aware training is the same as it would be for\n",
    "floating point training. Indeed, the Brevitas layers used in the CNN class will handle\n",
    "quantization during training. \n",
    "\n",
    "We train the network for varying weights and activations bit-width, to find an FHE compatible \n",
    "configuration."
   ]
  },
  {
   "cell_type": "code",
   "execution_count": 4,
   "id": "f3035684",
   "metadata": {
    "ExecuteTime": {
     "end_time": "2023-09-30T21:05:36.674411500Z",
     "start_time": "2023-09-30T21:05:33.035323500Z"
    }
   },
   "outputs": [
    {
     "name": "stderr",
     "output_type": "stream",
     "text": [
      "Training: 100%|██████████| 150/150 [00:03<00:00, 42.34it/s]\n"
     ]
    },
    {
     "data": {
      "text/plain": "<Figure size 800x400 with 1 Axes>",
      "image/png": "[encoded data removed]"
     },
     "metadata": {},
     "output_type": "display_data"
    }
   ],
   "source": [
    "torch.manual_seed(42)\n",
    "\n",
    "# Epochs to train for\n",
    "N_EPOCHS = 150\n",
    "\n",
    "# Train the network\n",
    "losses = train_network(net, N_EPOCHS, train_dataloader)  \n",
    "\n",
    "# Plot the cross-entropy loss for each epoch\n",
    "plot_training_loss(losses)"
   ]
  },
  {
   "cell_type": "markdown",
   "id": "303fdc93",
   "metadata": {},
   "source": [
    "### Test the torch network in fp32"
   ]
  },
  {
   "cell_type": "code",
   "execution_count": 5,
   "id": "822f1736",
   "metadata": {
    "ExecuteTime": {
     "end_time": "2023-09-30T21:05:36.682412Z",
     "start_time": "2023-09-30T21:05:36.671304700Z"
    }
   },
   "outputs": [
    {
     "name": "stdout",
     "output_type": "stream",
     "text": [
      "Test accuracy for 6-bit weights and activations: 100.00%\n"
     ]
    }
   ],
   "source": [
    "# Test the network in fp32   \n",
    "test_network(net, n_bits, test_dataloader)"
   ]
  },
  {
   "cell_type": "markdown",
   "source": [
    "### Compile the network to FHE"
   ],
   "metadata": {
    "collapsed": false
   },
   "id": "6535b48c86cdd224"
  },
  {
   "cell_type": "code",
   "execution_count": 6,
   "outputs": [
    {
     "name": "stderr",
     "output_type": "stream",
     "text": [
      "WARNING: high error rate, more details with --display-optimizer-choice\n"
     ]
    }
   ],
   "source": [
    "q_module_fhe = compile_network(net, x_train, n_bits, p_error)"
   ],
   "metadata": {
    "collapsed": false,
    "ExecuteTime": {
     "end_time": "2023-09-30T21:05:38.354602800Z",
     "start_time": "2023-09-30T21:05:36.722421500Z"
    }
   },
   "id": "4b9e35807ef01491"
  },
  {
   "cell_type": "markdown",
   "id": "4cccf0b5",
   "metadata": {},
   "source": [
    "### Test the network using Simulation\n",
    "\n",
    "Note that this is not a test in FHE. The simulated FHE mode gives \n",
    "insight into the number of accumulator bits that are needed and the \n",
    "impact of FHE execution on the accuracy.\n",
    "\n",
    "The torch neural network is quantized during training and, for inference, it is converted \n",
    "to FHE by Concrete ML using a dedicated function, `compile_torch_model`."
   ]
  },
  {
   "cell_type": "code",
   "execution_count": 7,
   "id": "33250d57",
   "metadata": {
    "ExecuteTime": {
     "end_time": "2023-09-30T21:05:38.522950600Z",
     "start_time": "2023-09-30T21:05:38.349662700Z"
    }
   },
   "outputs": [
    {
     "name": "stderr",
     "output_type": "stream",
     "text": [
      "100%|██████████| 40/40 [00:00<00:00, 335.11it/s]"
     ]
    },
    {
     "name": "stdout",
     "output_type": "stream",
     "text": [
      "Simulated FHE execution for 6 bit network accuracy: 100.00%\n"
     ]
    },
    {
     "name": "stderr",
     "output_type": "stream",
     "text": [
      "\n"
     ]
    }
   ],
   "source": [
    "# Test the network in FHE using simulation\n",
    "test_quantized_module(q_module_fhe, n_bits, test_dataloader, use_sim=True)"
   ]
  },
  {
   "cell_type": "markdown",
   "id": "2875e825",
   "metadata": {},
   "source": [
    "### 2. Generate Keys"
   ]
  },
  {
   "cell_type": "code",
   "execution_count": 8,
   "id": "6e8b6471",
   "metadata": {
    "ExecuteTime": {
     "end_time": "2023-09-30T21:05:45.397765100Z",
     "start_time": "2023-09-30T21:05:45.394505500Z"
    }
   },
   "outputs": [
    {
     "name": "stdout",
     "output_type": "stream",
     "text": [
      "Keygen time: 6.92s\n"
     ]
    }
   ],
   "source": [
    "# Generate keys first, this may take some time (up to 30min)\n",
    "t = time.time()\n",
    "q_module_fhe.fhe_circuit.keygen()\n",
    "print(f\"Keygen time: {time.time()-t:.2f}s\")"
   ]
  },
  {
   "cell_type": "markdown",
   "id": "a4dd257f",
   "metadata": {},
   "source": [
    "### 3. Execute in FHE on encrypted data"
   ]
  },
  {
   "cell_type": "code",
   "execution_count": 9,
   "outputs": [],
   "source": [
    "# Run inference in FHE on a single encrypted example\n",
    "index = 20\n",
    "x = np.array([x_test[index]])\n",
    "y = np.array([y_test[index]])\n",
    "mini_test_dataloader = create_dataloader(x, y, 1)\n",
    "save_image(x[0], \"saved_image.jpg\")"
   ],
   "metadata": {
    "collapsed": false,
    "ExecuteTime": {
     "end_time": "2023-09-30T21:05:45.410782400Z",
     "start_time": "2023-09-30T21:05:45.399765200Z"
    }
   },
   "id": "4dd474ad3a361bef"
  },
  {
   "cell_type": "code",
   "execution_count": 10,
   "outputs": [],
   "source": [
    "# path = \"./data/white.jpg\"\n",
    "# \n",
    "# img = process_images([path], IMAGE_SIZE, 1)[0]\n",
    "# x = np.array([img])\n",
    "# y = np.array([[0]])\n",
    "# mini_test_dataloader = create_dataloader(x, y, 1)\n",
    "# \n",
    "# save_image(img, \"saved_image.jpg\")"
   ],
   "metadata": {
    "collapsed": false,
    "ExecuteTime": {
     "end_time": "2023-09-30T21:05:45.410782400Z",
     "start_time": "2023-09-30T21:05:45.409779200Z"
    }
   },
   "id": "1ab6b0dfa7a4721c"
  },
  {
   "cell_type": "code",
   "execution_count": 11,
   "outputs": [
    {
     "name": "stderr",
     "output_type": "stream",
     "text": [
      "100%|██████████| 1/1 [00:00<00:00, 270.27it/s]"
     ]
    },
    {
     "name": "stdout",
     "output_type": "stream",
     "text": [
      "Time per inference in FHE: 0.01\n",
      "Accuracy in FHE: 100.00%\n"
     ]
    },
    {
     "name": "stderr",
     "output_type": "stream",
     "text": [
      "\n"
     ]
    }
   ],
   "source": [
    "t = time.time()\n",
    "res = test_with_concrete(\n",
    "    q_module_fhe,\n",
    "    mini_test_dataloader,\n",
    "    use_sim=False,\n",
    ")\n",
    "print(f\"Time per inference in FHE: {(time.time() - t) / len(mini_test_dataloader):.2f}\")\n",
    "print(f\"Accuracy in FHE: {res:.2f}%\")"
   ],
   "metadata": {
    "collapsed": false,
    "ExecuteTime": {
     "end_time": "2023-09-30T21:05:45.426809Z",
     "start_time": "2023-09-30T21:05:45.413291100Z"
    }
   },
   "id": "4dea752e80679b34"
  },
  {
   "cell_type": "markdown",
   "id": "550f48bf",
   "metadata": {},
   "source": [
    "### Conclusion\n",
    "\n",
    "We see that quantization with **3** bit weight and activations is the best viable FHE configuration,\n",
    "as the accumulator bit width for this configuration is between **7 and 8** bits (can vary due to the final \n",
    "distribution of the weights). The accuracy in this setting, 92% is a few percentage points \n",
    "under the maximum accuracy achievable with larger accumulator bit widths (97-98%). \n",
    "\n",
    "Compiling the higher bit-width networks is also possible, but in this example, to ensure FHE execution is fast\n",
    "we used the lower bit-width quantization setting.\n"
   ]
  }
 ],
 "metadata": {
  "execution": {
   "timeout": 10800
  },
  "kernelspec": {
   "name": "python3",
   "language": "python",
   "display_name": "Python 3 (ipykernel)"
  }
 },
 "nbformat": 4,
 "nbformat_minor": 5
}
